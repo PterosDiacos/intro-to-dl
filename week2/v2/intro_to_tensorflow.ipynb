{
 "cells": [
  {
   "cell_type": "code",
   "execution_count": null,
   "metadata": {},
   "outputs": [],
   "source": [
    "# set tf 1.x for colab\n",
    "%tensorflow_version 1.x"
   ]
  },
  {
   "cell_type": "markdown",
   "metadata": {
    "slideshow": {
     "slide_type": "slide"
    }
   },
   "source": [
    "# Intro to TensorFlow\n",
    "\n",
    "This notebook covers the basics of TF and shows you an animation with gradient descent trajectory.\n",
    "<img src=\"images/gradient_descent.png\" style=\"width:50%\">"
   ]
  },
  {
   "cell_type": "markdown",
   "metadata": {},
   "source": [
    "# TensorBoard"
   ]
  },
  {
   "cell_type": "markdown",
   "metadata": {},
   "source": [
    "**Plase note that if you are running on the Coursera platform, you won't be able to access the tensorboard instance due to the network setup there.**\n",
    "\n",
    "Run `tensorboard --logdir=./tensorboard_logs --port=7007` in bash.\n",
    "\n",
    "If you run the notebook locally, you should be able to access TensorBoard on http://127.0.0.1:7007/"
   ]
  },
  {
   "cell_type": "code",
   "execution_count": 1,
   "metadata": {},
   "outputs": [
    {
     "name": "stderr",
     "output_type": "stream",
     "text": [
      "Using TensorFlow backend.\n"
     ]
    },
    {
     "name": "stdout",
     "output_type": "stream",
     "text": [
      "We're using TF 2.1.0\n"
     ]
    }
   ],
   "source": [
    "import tensorflow.compat.v1 as tf\n",
    "tf.disable_eager_execution()\n",
    "\n",
    "import sys\n",
    "sys.path.append(\"../..\")\n",
    "from keras_utils import reset_tf_session\n",
    "s = reset_tf_session()\n",
    "print(\"We're using TF\", tf.__version__)"
   ]
  },
  {
   "cell_type": "markdown",
   "metadata": {},
   "source": [
    "# Warming up\n",
    "For starters, let's implement a python function that computes the sum of squares of numbers from 0 to N-1."
   ]
  },
  {
   "cell_type": "code",
   "execution_count": 2,
   "metadata": {},
   "outputs": [],
   "source": [
    "import numpy as np\n",
    "\n",
    "def sum_python(N):\n",
    "    return np.sum(np.arange(N)**2)"
   ]
  },
  {
   "cell_type": "code",
   "execution_count": 3,
   "metadata": {},
   "outputs": [
    {
     "name": "stdout",
     "output_type": "stream",
     "text": [
      "Wall time: 0 ns\n"
     ]
    },
    {
     "data": {
      "text/plain": [
       "216474736"
      ]
     },
     "execution_count": 3,
     "metadata": {},
     "output_type": "execute_result"
    }
   ],
   "source": [
    "%%time\n",
    "sum_python(10**5)"
   ]
  },
  {
   "cell_type": "markdown",
   "metadata": {},
   "source": [
    "# Tensoflow teaser\n",
    "\n",
    "Doing the very same thing"
   ]
  },
  {
   "cell_type": "code",
   "execution_count": 4,
   "metadata": {},
   "outputs": [],
   "source": [
    "# An integer parameter\n",
    "N = tf.placeholder('int64', name=\"input_to_your_function\")\n",
    "\n",
    "# A recipe on how to produce the same result\n",
    "result = tf.reduce_sum(tf.range(N)**2)"
   ]
  },
  {
   "cell_type": "code",
   "execution_count": 5,
   "metadata": {},
   "outputs": [
    {
     "data": {
      "text/plain": [
       "<tf.Tensor 'Sum:0' shape=() dtype=int64>"
      ]
     },
     "execution_count": 5,
     "metadata": {},
     "output_type": "execute_result"
    }
   ],
   "source": [
    "# just a graph definition\n",
    "result"
   ]
  },
  {
   "cell_type": "code",
   "execution_count": 6,
   "metadata": {},
   "outputs": [
    {
     "name": "stdout",
     "output_type": "stream",
     "text": [
      "Wall time: 24.1 ms\n"
     ]
    },
    {
     "data": {
      "text/plain": [
       "333328333350000"
      ]
     },
     "execution_count": 6,
     "metadata": {},
     "output_type": "execute_result"
    }
   ],
   "source": [
    "%%time\n",
    "# actually executing\n",
    "result.eval({N: 10**5})"
   ]
  },
  {
   "cell_type": "code",
   "execution_count": 7,
   "metadata": {},
   "outputs": [],
   "source": [
    "# logger for tensorboard\n",
    "writer = tf.summary.FileWriter(\"tensorboard_logs\", graph=s.graph)"
   ]
  },
  {
   "cell_type": "markdown",
   "metadata": {},
   "source": [
    "# How does it work?\n",
    "1. Define placeholders where you'll send inputs\n",
    "2. Make a symbolic graph: a recipe for mathematical transformation of those placeholders\n",
    "3. Compute outputs of your graph with particular values for each placeholder\n",
    "  * `output.eval({placeholder: value})`\n",
    "  * `s.run(output, {placeholder: value})`\n",
    "\n",
    "So far there are two main entities: \"placeholder\" and \"transformation\" (operation output)\n",
    "* Both can be numbers, vectors, matrices, tensors, etc.\n",
    "* Both can be int32/64, floats, booleans (uint8) of various size.\n",
    "\n",
    "* You can define new transformations as an arbitrary operation on placeholders and other transformations\n",
    " * `tf.reduce_sum(tf.arange(N)**2)` are 3 sequential transformations of placeholder `N`\n",
    " * There's a tensorflow symbolic version for every numpy function\n",
    "   * `a+b, a/b, a**b, ...` behave just like in numpy\n",
    "   * `np.mean` -> `tf.reduce_mean`\n",
    "   * `np.arange` -> `tf.range`\n",
    "   * `np.cumsum` -> `tf.cumsum`\n",
    "   * If you can't find the operation you need, see the [docs](https://www.tensorflow.org/versions/r1.3/api_docs/python).\n",
    "   \n",
    "`tf.contrib` has many high-level features, may be worth a look."
   ]
  },
  {
   "cell_type": "code",
   "execution_count": 8,
   "metadata": {},
   "outputs": [],
   "source": [
    "with tf.name_scope(\"Placeholders_examples\"):\n",
    "    # Default placeholder that can be arbitrary float32\n",
    "    # scalar, vertor, matrix, etc.\n",
    "    arbitrary_input = tf.placeholder('float32')\n",
    "\n",
    "    # Input vector of arbitrary length\n",
    "    input_vector = tf.placeholder('float32', shape=(None,))\n",
    "\n",
    "    # Input vector that _must_ have 10 elements and integer type\n",
    "    fixed_vector = tf.placeholder('int32', shape=(10,))\n",
    "\n",
    "    # Matrix of arbitrary n_rows and 15 columns\n",
    "    # (e.g. a minibatch of your data table)\n",
    "    input_matrix = tf.placeholder('float32', shape=(None, 15))\n",
    "    \n",
    "    # You can generally use None whenever you don't need a specific shape\n",
    "    input1 = tf.placeholder('float64', shape=(None, 100, None))\n",
    "    input2 = tf.placeholder('int32', shape=(None, None, 3, 224, 224))\n",
    "\n",
    "    # elementwise multiplication\n",
    "    double_the_vector = input_vector*2\n",
    "\n",
    "    # elementwise cosine\n",
    "    elementwise_cosine = tf.cos(input_vector)\n",
    "\n",
    "    # difference between squared vector and vector itself plus one\n",
    "    vector_squares = input_vector**2 - input_vector + 1"
   ]
  },
  {
   "cell_type": "code",
   "execution_count": 9,
   "metadata": {},
   "outputs": [],
   "source": [
    "my_vector =  tf.placeholder('float32', shape=(None,), name=\"VECTOR_1\")\n",
    "my_vector2 = tf.placeholder('float32', shape=(None,))\n",
    "my_transformation = my_vector * my_vector2 / (tf.sin(my_vector) + 1)"
   ]
  },
  {
   "cell_type": "code",
   "execution_count": 10,
   "metadata": {},
   "outputs": [
    {
     "name": "stdout",
     "output_type": "stream",
     "text": [
      "Tensor(\"truediv:0\", shape=(None,), dtype=float32)\n"
     ]
    }
   ],
   "source": [
    "print(my_transformation)"
   ]
  },
  {
   "cell_type": "code",
   "execution_count": 11,
   "metadata": {},
   "outputs": [
    {
     "name": "stdout",
     "output_type": "stream",
     "text": [
      "[0. 1. 2. 3. 4.]\n"
     ]
    },
    {
     "data": {
      "text/plain": [
       "array([0.       , 1.6291324, 2.0950115, 2.6289961, 0.       ],\n",
       "      dtype=float32)"
      ]
     },
     "execution_count": 11,
     "metadata": {},
     "output_type": "execute_result"
    }
   ],
   "source": [
    "dummy = np.arange(5).astype('float32')\n",
    "print(dummy)\n",
    "my_transformation.eval({my_vector: dummy, my_vector2: dummy[::-1]})"
   ]
  },
  {
   "cell_type": "code",
   "execution_count": 12,
   "metadata": {},
   "outputs": [],
   "source": [
    "writer.add_graph(my_transformation.graph)\n",
    "writer.flush()"
   ]
  },
  {
   "cell_type": "markdown",
   "metadata": {},
   "source": [
    "TensorBoard allows writing scalars, images, audio, histogram. You can read more on tensorboard usage [here](https://www.tensorflow.org/get_started/graph_viz)."
   ]
  },
  {
   "cell_type": "markdown",
   "metadata": {},
   "source": [
    "# Summary\n",
    "* Tensorflow is based on computation graphs\n",
    "* A graph consists of placeholders and transformations"
   ]
  },
  {
   "cell_type": "markdown",
   "metadata": {},
   "source": [
    "# Loss function: Mean Squared Error\n",
    "\n",
    "Loss function must be a part of the graph as well, so that we can do backpropagation."
   ]
  },
  {
   "cell_type": "code",
   "execution_count": 13,
   "metadata": {},
   "outputs": [],
   "source": [
    "with tf.name_scope(\"MSE\"):\n",
    "    y_true = tf.placeholder(\"float32\", shape=(None,), name=\"y_true\")\n",
    "    y_predicted = tf.placeholder(\"float32\", shape=(None,), name=\"y_predicted\")\n",
    "    # Implement MSE(y_true, y_predicted), use tf.reduce_mean(...)\n",
    "    mse = tf.reduce_mean((y_true - y_predicted) ** 2)\n",
    "\n",
    "def compute_mse(vector1, vector2):\n",
    "    return mse.eval({y_true: vector1, y_predicted: vector2})"
   ]
  },
  {
   "cell_type": "code",
   "execution_count": 14,
   "metadata": {},
   "outputs": [],
   "source": [
    "writer.add_graph(mse.graph)\n",
    "writer.flush()"
   ]
  },
  {
   "cell_type": "code",
   "execution_count": 15,
   "metadata": {},
   "outputs": [],
   "source": [
    "# Rigorous local testing of MSE implementation\n",
    "import sklearn.metrics\n",
    "for n in [1, 5, 10, 10**3]:\n",
    "    elems = [np.arange(n), np.arange(n, 0, -1), np.zeros(n),\n",
    "             np.ones(n), np.random.random(n), np.random.randint(100, size=n)]\n",
    "    for el in elems:\n",
    "        for el_2 in elems:\n",
    "            true_mse = np.array(sklearn.metrics.mean_squared_error(el, el_2))\n",
    "            my_mse = compute_mse(el, el_2)\n",
    "            if not np.allclose(true_mse, my_mse):\n",
    "                print('mse(%s,%s)' % (el, el_2))\n",
    "                print(\"should be: %f, but your function returned %f\" % (true_mse, my_mse))\n",
    "                raise ValueError('Wrong result')"
   ]
  },
  {
   "cell_type": "markdown",
   "metadata": {},
   "source": [
    "# Variables\n",
    "\n",
    "Placeholder and transformation values are not stored in the graph once the execution is finished. This isn't too comfortable if you want your model to have parameters (e.g. network weights) that are always present, but can change their value over time.\n",
    "\n",
    "Tensorflow solves this with `tf.Variable` objects.\n",
    "* You can assign variable a value at any time in your graph\n",
    "* Unlike placeholders, there's no need to explicitly pass values to variables when `s.run(...)`-ing\n",
    "* You can use variables the same way you use transformations \n",
    " "
   ]
  },
  {
   "cell_type": "code",
   "execution_count": 16,
   "metadata": {},
   "outputs": [
    {
     "name": "stdout",
     "output_type": "stream",
     "text": [
      "WARNING:tensorflow:From C:\\Users\\Ptero\\Anaconda3\\lib\\site-packages\\tensorflow_core\\python\\ops\\resource_variable_ops.py:1635: calling BaseResourceVariable.__init__ (from tensorflow.python.ops.resource_variable_ops) with constraint is deprecated and will be removed in a future version.\n",
      "Instructions for updating:\n",
      "If using Keras pass *_constraint arguments to layers.\n"
     ]
    }
   ],
   "source": [
    "# Creating a shared variable\n",
    "shared_vector_1 = tf.Variable(initial_value=np.ones(5),\n",
    "                              name=\"example_variable\")"
   ]
  },
  {
   "cell_type": "code",
   "execution_count": 17,
   "metadata": {},
   "outputs": [
    {
     "name": "stdout",
     "output_type": "stream",
     "text": [
      "Initial value [1. 1. 1. 1. 1.]\n"
     ]
    }
   ],
   "source": [
    "# Initialize variable(s) with initial values\n",
    "s.run(tf.global_variables_initializer())\n",
    "\n",
    "# Evaluating the shared variable\n",
    "print(\"Initial value\", s.run(shared_vector_1))"
   ]
  },
  {
   "cell_type": "code",
   "execution_count": 18,
   "metadata": {},
   "outputs": [
    {
     "name": "stdout",
     "output_type": "stream",
     "text": [
      "New value [0. 1. 2. 3. 4.]\n"
     ]
    }
   ],
   "source": [
    "# Setting a new value\n",
    "s.run(shared_vector_1.assign(np.arange(5)))\n",
    "\n",
    "# Getting that new value\n",
    "print(\"New value\", s.run(shared_vector_1))"
   ]
  },
  {
   "cell_type": "markdown",
   "metadata": {},
   "source": [
    "# tf.gradients - why graphs matter\n",
    "* Tensorflow can compute derivatives and gradients automatically using the computation graph\n",
    "* True to its name it can manage matrix derivatives\n",
    "* Gradients are computed as a product of elementary derivatives via the chain rule:\n",
    "\n",
    "$$ {\\partial f(g(x)) \\over \\partial x} = {\\partial f(g(x)) \\over \\partial g(x)}\\cdot {\\partial g(x) \\over \\partial x} $$\n",
    "\n",
    "It can get you the derivative of any graph as long as it knows how to differentiate elementary operations"
   ]
  },
  {
   "cell_type": "code",
   "execution_count": 19,
   "metadata": {},
   "outputs": [],
   "source": [
    "my_scalar = tf.placeholder('float32')\n",
    "\n",
    "scalar_squared = my_scalar**2\n",
    "\n",
    "# A derivative of scalar_squared by my_scalar\n",
    "derivative = tf.gradients(scalar_squared, [my_scalar, ])"
   ]
  },
  {
   "cell_type": "code",
   "execution_count": 20,
   "metadata": {},
   "outputs": [
    {
     "data": {
      "text/plain": [
       "[<tf.Tensor 'gradients/pow_1_grad/Reshape:0' shape=<unknown> dtype=float32>]"
      ]
     },
     "execution_count": 20,
     "metadata": {},
     "output_type": "execute_result"
    }
   ],
   "source": [
    "derivative"
   ]
  },
  {
   "cell_type": "code",
   "execution_count": 21,
   "metadata": {},
   "outputs": [
    {
     "data": {
      "image/png": "[encoded data removed]",
      "text/plain": [
       "<Figure size 432x288 with 1 Axes>"
      ]
     },
     "metadata": {
      "needs_background": "light"
     },
     "output_type": "display_data"
    }
   ],
   "source": [
    "import matplotlib.pyplot as plt\n",
    "%matplotlib inline\n",
    "\n",
    "x = np.linspace(-3, 3)\n",
    "x_squared, x_squared_der = s.run([scalar_squared, derivative[0]],\n",
    "                                 {my_scalar:x})\n",
    "\n",
    "plt.plot(x, x_squared,label=\"$x^2$\")\n",
    "plt.plot(x, x_squared_der, label=r\"$\\frac{dx^2}{dx}$\")\n",
    "plt.legend();"
   ]
  },
  {
   "cell_type": "markdown",
   "metadata": {},
   "source": [
    "# Why that rocks"
   ]
  },
  {
   "cell_type": "code",
   "execution_count": 22,
   "metadata": {},
   "outputs": [],
   "source": [
    "my_vector = tf.placeholder('float32', [None])\n",
    "# Compute the gradient of the next weird function over my_scalar and my_vector\n",
    "# Warning! Trying to understand the meaning of that function may result in permanent brain damage\n",
    "weird_psychotic_function = tf.reduce_mean(\n",
    "    (my_vector+my_scalar)**(1+tf.nn.moments(my_vector,[0])[1]) + \n",
    "    1./ tf.atan(my_scalar))/(my_scalar**2 + 1) + 0.01*tf.sin(\n",
    "    2*my_scalar**1.5)*(tf.reduce_sum(my_vector)* my_scalar**2\n",
    "                      )*tf.exp((my_scalar-4)**2)/(\n",
    "    1+tf.exp((my_scalar-4)**2))*(1.-(tf.exp(-(my_scalar-4)**2)\n",
    "                                    )/(1+tf.exp(-(my_scalar-4)**2)))**2\n",
    "\n",
    "der_by_scalar = tf.gradients(weird_psychotic_function, my_scalar)\n",
    "der_by_vector = tf.gradients(weird_psychotic_function, my_vector)"
   ]
  },
  {
   "cell_type": "code",
   "execution_count": 23,
   "metadata": {},
   "outputs": [
    {
     "data": {
      "image/png": "[encoded data removed]",
      "text/plain": [
       "<Figure size 432x288 with 1 Axes>"
      ]
     },
     "metadata": {
      "needs_background": "light"
     },
     "output_type": "display_data"
    }
   ],
   "source": [
    "# Plotting the derivative\n",
    "scalar_space = np.linspace(1, 7, 100)\n",
    "\n",
    "y = [s.run(weird_psychotic_function, {my_scalar:x, my_vector:[1, 2, 3]})\n",
    "     for x in scalar_space]\n",
    "\n",
    "plt.plot(scalar_space, y, label='function')\n",
    "\n",
    "y_der_by_scalar = [s.run(der_by_scalar,\n",
    "                         {my_scalar:x, my_vector:[1, 2, 3]})\n",
    "                   for x in scalar_space]\n",
    "\n",
    "plt.plot(scalar_space, y_der_by_scalar, label='derivative')\n",
    "plt.grid()\n",
    "plt.legend();"
   ]
  },
  {
   "cell_type": "markdown",
   "metadata": {},
   "source": [
    "# Almost done - optimizers\n",
    "\n",
    "While you can perform gradient descent by hand with automatic gradients from above, tensorflow also has some optimization methods implemented for you. Recall momentum & rmsprop?"
   ]
  },
  {
   "cell_type": "code",
   "execution_count": 24,
   "metadata": {},
   "outputs": [],
   "source": [
    "y_guess = tf.Variable(np.zeros(2, dtype='float32'))\n",
    "y_true = tf.range(1, 3, dtype='float32')\n",
    "\n",
    "loss = tf.reduce_mean((y_guess - y_true + 0.5*tf.random_normal([2]))**2) \n",
    "\n",
    "step = tf.train.MomentumOptimizer(0.03, 0.5).minimize(loss, var_list=y_guess)"
   ]
  },
  {
   "cell_type": "markdown",
   "metadata": {},
   "source": [
    "Let's draw a trajectory of a gradient descent in 2D"
   ]
  },
  {
   "cell_type": "code",
   "execution_count": 28,
   "metadata": {},
   "outputs": [
    {
     "data": {
      "image/png": "[encoded data removed]",
      "text/plain": [
       "<Figure size 432x288 with 1 Axes>"
      ]
     },
     "metadata": {
      "needs_background": "light"
     },
     "output_type": "display_data"
    }
   ],
   "source": [
    "from matplotlib import animation, rc\n",
    "import matplotlib_utils\n",
    "from IPython.display import HTML, display_html\n",
    "\n",
    "# nice figure settings\n",
    "fig, ax = plt.subplots()\n",
    "y_true_value = s.run(y_true)\n",
    "level_x = np.arange(0, 2, 0.02)\n",
    "level_y = np.arange(0, 3, 0.02)\n",
    "X, Y = np.meshgrid(level_x, level_y)\n",
    "Z = (X - y_true_value[0])**2 + (Y - y_true_value[1])**2\n",
    "ax.set_xlim(-0.02, 2)\n",
    "ax.set_ylim(-0.02, 3)\n",
    "s.run(tf.global_variables_initializer())\n",
    "ax.scatter(*s.run(y_true), c='red')\n",
    "contour = ax.contour(X, Y, Z, 10)\n",
    "ax.clabel(contour, inline=1, fontsize=10)\n",
    "line, = ax.plot([], [], lw=2)\n",
    "\n",
    "# start animation with empty trajectory\n",
    "def init():\n",
    "    line.set_data([], [])\n",
    "    return (line,)\n",
    "\n",
    "trajectory = [s.run(y_guess)]\n",
    "\n",
    "# one animation step (make one GD step)\n",
    "def animate(i):\n",
    "    s.run(step)\n",
    "    trajectory.append(s.run(y_guess))\n",
    "    line.set_data(*zip(*trajectory))\n",
    "    return (line,)\n",
    "\n",
    "anim = animation.FuncAnimation(fig, animate, init_func=init,\n",
    "                               frames=100, interval=20, blit=True)"
   ]
  },
  {
   "cell_type": "code",
   "execution_count": 26,
   "metadata": {},
   "outputs": [
    {
     "data": {
      "text/html": [
       "<video width=\"432\" height=\"288\" controls autoplay loop>\n",
       "  <source type=\"video/mp4\" src=\"data:video/mp4;base64,AAAAHGZ0eXBNNFYgAAACAGlzb21pc28yYXZjMQAAAAhmcmVlAABNBm1kYXQAAAKgBgX//5zcRem9\n",
       "5tlIt5Ys2CDZI+7veDI2NCAtIGNvcmUgMTYwIC0gSC4yNjQvTVBFRy00IEFWQyBjb2RlYyAtIENv\n",
       "cHlsZWZ0IDIwMDMtMjAyMCAtIGh0dHA6Ly93d3cudmlkZW9sYW4ub3JnL3gyNjQuaHRtbCAtIG9w\n",
       "dGlvbnM6IGNhYmFjPTEgcmVmPTMgZGVibG9jaz0xOjA6MCBhbmFseXNlPTB4MzoweDExMyBtZT1o\n",
       "ZXggc3VibWU9NyBwc3k9MSBwc3lfcmQ9MS4wMDowLjAwIG1peGVkX3JlZj0xIG1lX3JhbmdlPTE2\n",
       "IGNocm9tYV9tZT0xIHRyZWxsaXM9MSA4eDhkY3Q9MSBjcW09MCBkZWFkem9uZT0yMSwxMSBmYXN0\n",
       "X3Bza2lwPTEgY2hyb21hX3FwX29mZnNldD0tMiB0aHJlYWRzPTYgbG9va2FoZWFkX3RocmVhZHM9\n",
       "MSBzbGljZWRfdGhyZWFkcz0wIG5yPTAgZGVjaW1hdGU9MSBpbnRlcmxhY2VkPTAgYmx1cmF5X2Nv\n",
       "bXBhdD0wIGNvbnN0cmFpbmVkX2ludHJhPTAgYmZyYW1lcz0zIGJfcHlyYW1pZD0yIGJfYWRhcHQ9\n",
       "MSBiX2JpYXM9MCBkaXJlY3Q9MSB3ZWlnaHRiPTEgb3Blbl9nb3A9MCB3ZWlnaHRwPTIga2V5aW50\n",
       "PTI1MCBrZXlpbnRfbWluPTI1IHNjZW5lY3V0PTQwIGludHJhX3JlZnJlc2g9MCByY19sb29rYWhl\n",
       "YWQ9NDAgcmM9Y3JmIG1idHJlZT0xIGNyZj0yMy4wIHFjb21wPTAuNjAgcXBtaW49MCBxcG1heD02\n",
       "OSBxcHN0ZXA9NCBpcF9yYXRpbz0xLjQwIGFxPTE6MS4wMACAAAAynGWIhAAv//72rvzLK0cLlS4d\n",
       "WXuzUfLoSXL9iDB9aAAAAwAA1WshfKGCVVAY4OQpfFAvedMJ0Dm5sS6TEnk3difoO7J6M7UHMoQC\n",
       "7SDcOVGjTItyhp18FcAAFYwPa7PtpoPe/Zp+iT+SjpnwgpLMZBFpwalYsUpWrMy7YhF3ikv6SSso\n",
       "GWurELpGeNLCX5uVpAt9W/yLRiK06vqHZzwQ1E82y9rnZNvAyNek4Lpwzr8ud5k6hMNb/zYynk9Y\n",
       "KphfQMtIxexB0gujNY6iYWhgPtiO7IlN7W4c5vve5IYoacOOxWc3/0r97oP4xn4lPfXJop+Kzzx/\n",
       "6jUbZTbw8Qh2hGXxiSrM9hYLN89zpIniVwUZvm0Q12TETt7D+0fR+JaGJD06667FcEODokDAFA/i\n",
       "8/rugVfifDKumAcys/jnjlqPg+YVtzVV1ONYUR8sZ6AKXArQaa/cAUQmi9ctHxPinhcMaJpDKjjW\n",
       "TN56u+DAilp3QQ14lKSuh74a6PLMM8p75D4AVacVqEtRgtRInzYjvf3KxqErTyIZrnxE2+nEHMTQ\n",
       "5P0/83qSK+/1MCJFmRmLiExHNTyW/+oaSZf2Vvzf1XhBfl9k1wl/l8tieRzokvwXn5DB6E/UUxRw\n",
       "4vdRm5lIr9xdO0KbjyUQpCSc/8E6FRriknLVn+n+/TzewiF7xntks+U3luvECJe1d7FQOKi1HIVw\n",
       "5rMeYCrMEqJkxNuuIb1/NhwwYq7S4PxXLPWbWGuCetbm9e5und1S1E65DbS5JFqylKjLdpt1LyOq\n",
       "9mAk7ZFcnc2UFMLiu0Om2VHWOrGBSSkP+JBletVcldcDLeBAi+1Y/RLA1kFo+1ziURPkUABGqnOC\n",
       "oGuXTE6hHIyj66vZSTS0fvzv6QblFhk/O5+FzSeWp0z8smXx8ZDb5kJhA0rS0j/zMVuaUtv2wJBI\n",
       "GcwfkA6D1y4MvvrrwzhV40ViDN2UXg9Uegk/dL7+E572BBMWXbiptfib1H628cGHAKwvnxWXnNxE\n",
       "J1KfkcAOHijGOy0G/VZx973FcuK6/7UxBMTrJb6NtTO4CR0kQRB3Na4aLGoEq0p6mIcwA65CopYq\n",
       "1BlnO8N3/bLmuCUxD8omAA7IPr2yMAvRjUMOmfSVAqZkOWEzSWZ9LvxlwgPp1ejHbo3bCW+l7+S0\n",
       "xIBMLkj930EE64TZBn3Dk7eSr7qsaoQyAFUAu4F2863+zctWJxoFoQ5GkIkMypGB50AL5z44Q4Xq\n",
       "2eF9rpi/M0+8j8NV7LQKjLCn+IZ/bkRGK7lTfxnf8g5YibpcxBiqhPtwrGrl2IlLg36DgfqxjxLI\n",
       "XDGXLIQA6uq2VVO3q1O6g0Zl3yBQvjyZIz4wBCZwrElBBYu5e8t8BZS0XR/MdiFiRKOh4IhfJ1AW\n",
       "3vjXpcLa0Y6eKZt/gH/bPpusFm7yTbWu3YIWE4uF9GRGO9DkUTGtxKgmH+Ar9hUqDFPpX7Nl79iZ\n",
       "Sz7FWNij/M18Taezm5E3cds8RmTiiSSJZ1N5Dq0x9ChbVUxOfbLVyhFVWjU3HtoPFPNkjLi4qd/E\n",
       "c/0TfJioCuuDYllilBwrox9BFXxwp97LthnGbznzNUAm98pmdlMFc7KvbbNpoHudCdz+qxor3Iy/\n",
       "5PZfEy94HQTSdOpF0VT3te/afbxTZETpHyBL8PAuRZY6Mq9niQoUiI0XRSFqFZbbbWU/1P4BpyOX\n",
       "cGXjpc2JlJFYhFNW9NOUJ/k8yV63rF2ppBMi1k5d9DqFwdmHFl71HrqpZCfRMHr+9B2fVB8z2U0a\n",
       "lksihGVEwp9AXU3jtPw9IlZxlCahQW2JOUshzlkkICWRjHRoA4KFN7bttOGdA2P5cFEgCMUxMdsb\n",
       "bmypNnTf9ZipA9aJLVqgGtqLqMhCNIUZ/cAUwyAK21iMqIERaPsPqbkvVRrf7rorW6mlL6wpxyks\n",
       "AKmgCiqvb6gwYOY8VtFqIUvZ588SQrjPXtysFTKfJZAMGGx9pZpZ9pLmtlVJXohpWdwB+5aCZzuq\n",
       "l/NLNeDXSjFtu0ROqEzXBLSnlPkAhEitYcXtTOgw2jGBHndZARd7sRKXMUwLjkbAWxeWn/uhxogU\n",
       "JRPN9usCosvo2vf+ukz7xY/VCDx/xfhWdl+JDrWCy3trxHeSEZ/h0AzjBanKnfiogFsWTcdWcm2s\n",
       "Efc5H3MomrUoMSYnbVAU1HYjHc8YgHzyr3VE6wB9VMiCxi6X9KGKamiIZxHqxel/Fcd0kFFBnZ/v\n",
       "ADA6G7sM0d9lM1dZ3Amk2ny+Ti0e8VStSmkM9ajnyULiNRdfoLEaA58J3VzxFjhxJQoLWDtNM1Aj\n",
       "49I/78qpGMLWJ111Xi6I3L9kvMrrfizhzipk8CLqzvqeLbtxx6YgA30z1dSGEFr9HMpmkNMzRG2J\n",
       "CvjYOuHwjahOAwOExbxnWbm/BZ3fjnzsA7AUUfjywRT16ls2ROqOF9g06MnKbegTNfpFN2oYmWjE\n",
       "VJ9MLoMFQhNI9A8aGckAxGnPQUcCDlCDLcf8VPBd2lobtCHchZXi5v5WW4Zde8a1jHvgvi/qhzVx\n",
       "zWZmtYhrDrFgVyohi/vKkjkI0YsDCmcQhAaGlr8rAJSZpEJHRZnJiWG2+vQG7mc/9YJ0blRqScki\n",
       "JQijSGQK12Oahy+jUWnhEfkPIecHZrODXiaZM7ve5ct6bpU3I6pDH2Liipvmm6CSVLD+69CwAHks\n",
       "/IZPVLqws2g4XCRfmF4GjfBiKf8nBBfFc55aKy9ZAWvT1+AfoPBHlzwUgsPEu/AeD0LqJ/qwjQM+\n",
       "SNJYGxOgIvMxH9obrpcRi9Vc9Av795LdPnKSgho4Y/aEqLJh+ZUdA1XJnSNY/+DgkdR+YwqJ1aDc\n",
       "wlm6ci1xpIEqyjbcToxBRJb7bd5HQl8WfNOfVKCJUYgTN9ZwOoteF0uvq9TOu0hHNfjWHqLDobK5\n",
       "t5SyYMYQJY6HeioKHN9/COCH2ct+D4AQXZsQO4Z117I/N2EKIqQIvjM2NvKD9Mt4b5lnUsiQPvw9\n",
       "pp8L8LlAkxbjXnVIMKFuxQheleHBeeo6wkzAiLdzipxdGSofZWy0dObuqiIJNFPmEC9jOoLfl5N6\n",
       "vz/ZoDxuDWgECKOs9fPMEYIA1GSLeQao8XyM71Gen3UbAQNqjMb4w2/t1TlS243NSbBM0gGoHv5f\n",
       "nAAP9BZ2ACK3Vco6HHOXXdp37mwWspHyQbey4JBwBzoj8M1vPb9l9yhwhMRfUyEglCld+wx2OLNt\n",
       "g8BBh02zDRx9TDk0bGuB+8E0WwXRL+uH2e4OM3L8Ih92freNLuppFcpU5ygJ8AZ/JmuU3JW21+tD\n",
       "jeZsFzYp4jDNHCkV7sCdWPIoaRAbpBGqDARHK4yyVAX+lPv3grpOd9xLjHkC/w9xgUGNHlDYI9F3\n",
       "sRQrRE2fzb6x9NmXbbCzQLzIxMdSN0ldaCdS+V4AAvjlN5u2UIkC5e0n1vb1TC4p6Qg353n/g2xb\n",
       "uhklnIwijZDkM370xzEc3ksbY+ANbULRWMr0szYn0kDA0Pr/wNRBCoHDiCvIQ0chwGQCO856m9iW\n",
       "CXk0Cxc16hUHGJLbVcaMZhLxZSOoe2/HkwXyFdfCfUYMGJu61y9b/1cO9Hw9pX+173sfq12mMDER\n",
       "WHAkxXeRU5xuvpHZZY+sfWg1F4S5YBvaUXyKxEOvRDOGm/D0bBcAGT3kWifLx8b0EiQS6Rt33GRt\n",
       "wZtFAil5tinh/kCBwIerfw/FkfY9yu073u3Jb6x3VXNSb2tm1KfwFYv3ZKPlQePZ1bnYPh9xcs0V\n",
       "rtmvmD2Qt7f3Xnb4K3DP1h7QGHdu6PIJFv+qZZK6YNLRj4fxNTxppc9coJUfmsjX9jxHWk7vuqNz\n",
       "Qr3Y+BDc/4PmKkTClbZcvisNofcrXAPSVSPcGXW6vj+7/zxb8XNwGgX5y15jOHfQ8MevjP8UU+M5\n",
       "PUqBxIkx0tRehQOwb0s90Yuoe5yDCDHIAokn1jiPodBnbSpXuDRN3gyTKACPHqtsx9Iyn6ZDbN+t\n",
       "8AgomLXAYrTAef/ww9PvuCDKvyqcvh7ItBX9yUUEoPNal0uarYCfb3JdKbBH5P/TuFfOZsWQ6mKJ\n",
       "cEtMlhb5+XY4kEdD3pPnTWjDip4d2jjQWyCNTdeGLZ3jJP+cfE6MSrR+hRpX8TtiRGin0VLFw3wN\n",
       "d08x0PhYdyTJeU+ocbR/kbp49GoTvUmKFeSN28YYeLdPEYbPzLKJgvtjIwsdIss/1kXJQ+Zvbg4z\n",
       "o16y0R+IxlK6923Ao9b4XtEcyERAiOm5VxeXVB85Mkq5NDJKQPkvJALce/9qMSD7RrshKCJf9rUU\n",
       "yD8Y/wo/h4tCX+Bd74npkc8Ri/ZNy8wi8wQZTNCMetmCFxLSDIkxGtJ0OOHY1BnHmDpfXALS/Mb9\n",
       "YJ2/VLL+7hXL0iuFUSbAXiTuslB5CyxOv4+fH3jbtigOXo8kM7W9GS8tKHmJCCzN6Vj9iP4QsgM8\n",
       "X29cr/XSLCp3dapfZLEADICV6xTcvW4lixEmjaMCeIemxgBRFuFFlrbl/XeFM3zQFEhvUREUHRFR\n",
       "lFeyNPj1vUkc2F3Mp3u8hvIWzKTiXVNWjb6RuWlu1eaZ2uLBtRG5Np4DFyd+kuEpwWBfzdSymSsG\n",
       "6nsS9y2Cmbrp/DUvOTsMzpICSM9qQ8U8cpVw8vlkGMT3kHwNyfNQbOpvrCoTGoWZ3V2XsKP4Uz+9\n",
       "VtNShjRdIsKSb8EQwjk4KMdnvnQzxfJOOHKXBbbc7LIYHDmTFuxjO3Tz09rgEJjfchirOOsuh+Ho\n",
       "va2Y8p4eXs4zN/u3bDqOPjoGXyzzZS+2tOiottX3Ve2uNY7oLM0ClOHy/ogriMHigpvx8T6Lf/1i\n",
       "6s7ZW5E7MopAKMaCyWBWt5dT7WJpn+LVT093ShTZlmYkfxlFQ8rtikAnZjroxyMOWx7yxYJkQGnJ\n",
       "Y27P7g1BVh16GwRV+q1EjzbZnw1b7AR0Wlv8zYz/3Ii4nBYPPWD3MQFqr+PK7q34c2L3nh+wTPXf\n",
       "t7trd4IT2FZmelEgVvjnsbCGZQxroY277Zz99w10kkd+9cuPO4Kkg/RYEMq23Z6z2tw2F1zfnmy9\n",
       "W8AAAdmr5ooJp3mylu1B9h5uOgPhVdMJ3YnB9HOZrYiFO1FGje32Oss4BonL4fasu1md51SjnU9u\n",
       "PZcF1UhSICwE9r/8A8zix2HdxdX69e0s3VnrjVJTj+kRgRp2+JEcosVHqJtaDrJiuV+LZ49kU3sG\n",
       "1VduwK4Dj7iChT3BTj7c4F3T97f5hh1KtFSjxe76HTGUJd+0iaJriHq1CiXBZDZZ9h1Jp6XTE+1e\n",
       "AlQ+Gg1Z5CrY8yT0/yOzuLw0Pd1u7RaLmKeGngGdX0I4QOOx+zzHK/vXUdDJMfWshpQnuWvl/LwQ\n",
       "IAFAHv/kgKVakNiv8B4dSzynSqneK4+0JdVjkRk5lA//TV0e7EuZiPJgax+odQWZEjhXdk4izSBX\n",
       "qf8+LMhWr+EhyKBH5wByWMruf4n0apHsXIaWn68YjvinsnrfjEV71GlSDkBMjY+u7iuD2+Vv+6qR\n",
       "dmDQPOX/kds5di9I3SwqNQ1lF6BjeQBQTPSDFvec504jBSWHmziLfW0nJ6GEclbic0MNsRnx0vWT\n",
       "d4nXWJM6jZS3BVB9+xhzNW2zfkWnmwxFgcZjPbQz5mN9Qqo+NOKA3vITraEBg5v/3K8rwlfJg0JB\n",
       "BT0vDa7CoDqkBPijbbphEhiy/5ZHwXRTXDk/NOUH7ycL654Exj6U3se6Wag3aICPA7SAHQd4fkBo\n",
       "jDmwILv5O6h5zNZ/Ek+ZunlFmNacvdFNudFe8sH+EjpqJWh8JsXp4C0kIl3wO7qcQsZKsxej5wF0\n",
       "BZ7nFkp7YM6/ZK8OrA0aKgIo7SE78yfA2q0VzDKn/bFE4adPmgIOMuApd3ZnTp+C7vSgOmmGzBoy\n",
       "hKBQrxssG/vbDLWPnhPGtpsLkXbosJ+mdz2pmO+zcPRkQu+UdkS1OIurO+wZL9zIFjTEk6bhzXcA\n",
       "PQ2FVDiAjZkdmdjWRR/+NAagzy3MU5FoKnWoq5REbZ1r9DPJyksC2M3ZbFnHPOMmadvS32LGzqMj\n",
       "ZnQFd4a5WbUCxmkhV2mjRMN3VEUHDq1Oy00qhOUGPviwMFjPw0bEnBZAgOurTZ+7/IDV4NCP88rP\n",
       "FqCHGo+f1HZEt2N0XC2ILbHBCG+FxonrRgLmcJ6KkWE/4cOBkApgf/708lM9u1tayMYhU9Q1BAHv\n",
       "FaT1fW5E7JrnTJLyQm7WhklNkOG7tJr/P4dd0/MHDHgns2Wh8z2Zio8qrpx8tMiwUPkCOGDs2U+T\n",
       "vhZE5Q+tudcfghj1TVdemMV4QP33q/9PJ8WwwcC5liDfOpQOP/cY1A1an8HkSKbQslIGUDQG5TdG\n",
       "5r/Nv61yUFIMadwUeuhduYNSi5yyZwIcUsXHhijTex8YE4WEh7SAaJKRQSHXtzvfzW8ZK0Gp9IVb\n",
       "Npe4+Ys5MS8aDKsc8E7x+QSzh7O+Lt13nUJ8ZXzqlh8JsNDuUJREoSSgR0/6uQHvSebrPoOZVoBk\n",
       "WUfpYE/sNSfHuHVJMiPsu5jp/vf0y06TkP5x6fyMnkdTDUfCgzmorLhv5trQb2rwqrClkwTD8L3L\n",
       "g3416t8kAQHusAF8RxTWcha1UicgX/8Lr7Bz5zAkPYRJAf5FLm1voZ+FIaJltjQdHbJDxDX1Ju6O\n",
       "Q0JsaTMMDBUc91/gX8gkCXvnEgtxRLF5SJjLeycrdRDCMP9ANnMDSgvAQUJTr1zaNeKAQSMV3m/G\n",
       "VtQm3qufRKKpf5pkbM5JqsJQfUZUlmoGzH18ktn7y32/eUH3VjGbnT0K/CjEFXrTIKigmjp4C52f\n",
       "i+6cY80TuSrgZ9/vflbmm5N80yRxJcptdGArozJqr4fsTLuSCmWPZaUsTMxnlpErPFNTbZEtkWvw\n",
       "8FpncgqmAgXiRHs19PT5GjICmotR9/kZDJ7BOVVrtuJIR4kfr2fbjUSIYOvq39h60H/HQXfb8+ua\n",
       "E46HVxOf7qze67rP5qNZODaSwsmDfQFgLEHfR5hqAalDZaBcxv45Q2+oGLDGC4aJ6OAkzNIUWnvg\n",
       "62fPVtQ5twQEyRDJW0OpxBPJ+Dn8mp3UFjcZKJ5NC0jqM7fPfQQAVT/7+tOj5tlC0skk8C3DeoCu\n",
       "ylJ06C7aCGKydjWebU4EOJE6ezLv4ElcLzNlsa8HUvSc9+gPIvEihY6MaZgrsgP/feY2D8y2GUnj\n",
       "T6K2Cv9LH/m4/f3v6NyZxbTPBNuSpNd0lrZ9qLFuRbs6s3bEFOG3PRhMvYaovwSJa2V6FCzCxZOy\n",
       "SZXi22jb6HQVlc1PAGk2u1++LuoqmW5TL46/jruffOgsj9T3JqSV68MMhxOgO3kR12q21/OkaAMa\n",
       "vC+rwV8rdeiLrhPTUYgwthazidKgUybAHPq37wYEx7Q6ZZ9gCvoviWSnBo+/GsTjBrUnVnmHQub9\n",
       "0Z9UqFUipiLZvVg4xHcLsK/nEaMUd7ktw0KNoIbneBzCjofMXmvNiOc0eq41IRCcZrPgYK6bg2NU\n",
       "BODH7Nok1ropQapvuD1GOnJk4xLJQG/Yo/TdT//4d/vh5ChcgdxPyrwL/mSSWVeMxbpPpKmZGl/c\n",
       "dxZG76ohCpisZGCAQGAnrHiXdQ+zeWrElzH2FW+3WzXq2gtjQXHOWbpkoUCiJDc+ASj86IAMyQZT\n",
       "+4TOXI41wD5aR8VlZ/Tv/48ijX9WP1Fm/EmdgkFEDUmlI87FXDPH8BFBSbPGI06VBcTOoXEtUzYH\n",
       "YBYhLbOcM8wLxcEhCb4Chco5zugbuCNP2q0H0L2PoXz5fd58Bkn6o9rWT9A5qoECCt/TxRDcVeYf\n",
       "i3qKqccQIthbNAy9H3Civ1T661jXz3u6HlFFx0L6sJfYR9f7poyxopb4uFtt2xMF9IaCSw3JMSps\n",
       "we9c6ulPfHCQWil4UF5ZYhT+/8XecsXuQssVvIDehkrVKlNXZPeYYYEhGvTyNhEKQJzJHuu7dZuM\n",
       "s5MxIoCbKKvywHilcnRg6k+Co7kFVcnk7P9wcpW7qbiUNZ2AqtGRLSEBgBNEjjOY5sQrGveHY+fb\n",
       "uSD/8PDmEX8DKcbqvNm1NwNxjW6daN7jEl7KJsEYBJdASQhGIRBMN5jVYp+QOCZ7Zcm33p/DkFD1\n",
       "urnAsDdQ5werAqT3eXqV7nk9BrwWed2e1NgTnVOEzBKTIzgBDKokgRSfqUgUwbDRTkktBKn4Clpy\n",
       "Y15aBffECLBypH0f5MvTp7RzgKuHaQxc48G4GOqQ/Yz/3eVYiX9KI8FIDKc1jElQcYXtGqXOocq4\n",
       "QDyix9eYPGWbNMSWtcxu1p6x1dX7IbdXt8WXS2hU6XKATR8JZtoVBH/z5GC0/4N6Wc650vnhlBNt\n",
       "4htrcV9xFO7jJq21xXQAkuxf1zFTEczvSSY6jWR8LObA35cJ+sA5JusNr+HtzK4Fb10ssLd3v9Ac\n",
       "c5K4KrX0rhKn5Bv/dQf7I3D/cR3m+QKCvmQl6VSL4aCwr1VH425a8GYG361eqs2fht33Y4NHEuX2\n",
       "wEIDU90GVEoZLa8cee0J2DPxUPxNMtB60/XKAKRXuwaCpis51AobcbV/Nubp+Ik6x0eF17aMVDPj\n",
       "3xhFCD8DDYb2rFScgh5P95dtAkHmD5YltbxORFTMfZ8Tetfy9ELOsJHD0eves3BNEJ7p0k34uiYl\n",
       "tPzMBzqOB0CgQyV1y9dipXELW7hFMGHNf3qmjS7Kmr/6zcdWpg6tlD3/5P2KP95mRnhbPhkCy/tN\n",
       "LXAZlkhAheZyaaMIlFBhezxjBqk33JoZh3XtVLUpGhf3gpxhjzZq/4CpOKzKkHaQYHGq7506NTZL\n",
       "xWOc427bIp8PFCTR4iMA3gyuWKfKkhBZ5J4TWj1BLzb8Erp/WNcI6c0yTkXFc58cppFWz1J5/RNg\n",
       "7eSnYOtQC3qPyO3YqhZb5JtKAksALNUoRCj+paabkWogZYLxxSzqb1r0aBrX6vjnctqNdVY78Qic\n",
       "VPKSDSDnNert3bJ7zA+ifOqcUlUhYa9e3R3uC+55X9VakO/N1t7LszRtGVsHzK3YvxbuaSYGILXR\n",
       "cAcJePDzsER1wj46xDK4KsxrSX4JwXa0F/84HB2ocUUZB07kfl0kRRUeFtM5Yu74YrfGIcLwCQ4V\n",
       "mMwAMfSnONQd+CAOs8euq9uTcRmncOCPGMQanT4MjTXbH7kyaGnxLfg8cMwIrrhvKU+h7Uome8Ag\n",
       "Prq/aDD4HMB8+2mgIiAYMCYB3BdSyFdEdhQywsrGx8+5z90LFG7MXKJs7AAmrWiHAyHHTS9jKD9w\n",
       "rKdZJsQt7BV+K+aHnJe2Y86J0XBfCqAf2zeJTCtoMMKOZFYJBw5dg7yHNG2awYOmejcQ4WbLPuo4\n",
       "bubRVGMjK+SUXrW2Lh6tFudcnParZpHl75r08Wh9KV44btZHtoBw0Xt+EOYB3Bv7fuL57xRz0VwT\n",
       "TZHIOq9XZr4sWMzOC7dsYL2CEG7svk/zopeexzvsQXvTWi3RybyQjGGBpMKqO5zg7Z/yuodPgPJO\n",
       "V2lVZdXHl5GpgOBVxjLUexazgMDaUgtTMqDpgtDmhPIor1K6Z1wiPPYlMhYAtelKq1eXmpHDrHn0\n",
       "Pl3GOMFMsjXw4disHrdD4teFvhnrJjmaYaAy705PABdrE9q2TBgDYgpZwzohtBPi7gzpKAfzXrdh\n",
       "t6yogmHNXrQOMdB7DT1DQKOa9sU4cVHyEA98QpS6kJPAqTNZ3HwEdP5h4kcGMvtG4e7STwdxGHSn\n",
       "bbeoGJEcibgowxK4fAzaZsjXwa4m9wyLKLa0FZAihWRbDYqXmwKvvzLG4UEuqyIFCqwqKExmKqd2\n",
       "CM10quzNX2JO/bUB4wDk/hnXj/NELPIHv+VMdQbghuyo2P+JKdhMhuipuNL5gpThj83CAQozLm7k\n",
       "DIfas/UfFTnvVUrDEV6G9EvCnLUHqrI6qHvYUnXfxmUS2kKjwKqQBIBhbj4lLgLozcd0Yu/5z+S1\n",
       "SXM9c+Z9XewyoaZt5FFOYX+6n9cuI5TNiRxhTmU5slGnVLhStxLLjqNZrBbJelHv6fCqbQAnRxKf\n",
       "dJoUf/ArS/SMr8YtsqUuFTEf+FxSQ6TPIShxkbqyAgBSdPbIFJ0cN8dx0lAqC/Uc0nm6dQ1+5W4q\n",
       "VnQacjKcUpkwKcI4jvqiGrLivmeI6KcdrktL1/361n4swXbY1SUz4roiYdShRGCYyb7it65K4xQL\n",
       "BrVgZofLG/Xgzh6tHmc05wvYyC3opXWRQJb1DpdbEC6WZkm4fq/03O5GSl3N9Fh1eep9D8UvVFSR\n",
       "6LnHU1vK0TnhxegF7NsOe5ntkjJxbztY3oXRZpMmf63e643Y9zv8oGvHPj0efVauESkLtdXG4xN4\n",
       "a0Bn8Ehh4X3jnNz662MgCiy3P7JyKpdbxjxOKKBS5T62zlMQJmJoblDFxnLZIN1X3C/z4N1ByLQc\n",
       "kXclf6UxtIJGuTMCCm9Ul0oe4G2vTFICfjDZZgDB09ZEVoqj83bAcQh5OjzvQnXVSyS0wLGT6EOn\n",
       "88HuaSN8uTruGvUgTM2B0d1HInalxo3rlIgvQDq4K/fNweF9vma7D0PvWG5C4wYPC+ToVkO5wA8x\n",
       "Fv825kwkf65gyyT2cVIRwgPY8N2Y9sQg6c2rrP/jSadx63oRem7UDnv1Nb/hye6lBsbDKw09mv/R\n",
       "AxppllrWBNzYg5tdo7lhK+YUvED3s5nNHbrzammcb18t2OpCeX5ujn5GbQto/fHjSUiQDRpa/Ffz\n",
       "tBc6gmYijPW8tCcu2i4SKsbtCUSdKQikdYvtWZh82kVzgVoyQH7JXX1QTGVeaixJ8ED028Oae15r\n",
       "mkE5xE6zdXwSHWITRJQ82f+D4cNk1UdFuHlCCZDJffWDXgSSi6aGmpfG7J4y88OU5C6enorpDB1d\n",
       "T2JXAWQb099kaS3R6eYWCZB6fp/7W5ceBSqkXVWGoom2rYsUWQQJzHsWQ2Nof4UCNO/2sWskbiun\n",
       "uVF1lwu48hZnQ1SHHz6Dapob4Vd0ydEiQgM77D3+mqVJVGEi055xkQ69RAUTj67O/4Z4ccSzLQl3\n",
       "xDq4uFuGjWN3yDsWOwS58NmOHKbrS4xw/0PFmEB4R2y/3D7By7RzezpCtKQdYwwMAP1l/vpfMkKm\n",
       "jGKvymEny/GunP5VRBI5cJ3C0fA4WivWQ6uK12rSiLVPo7OBAx/YODsNmroxgOWm2JIXMHLBg4U1\n",
       "B4hFiITl9oa6iYOCiL4dGRCyDfnfXEEHqZZWT4ddr71HpVpulWg99iZd7DB2jQjRkXUqPnJWtGEv\n",
       "VuL8OaFgXpSycvCGagP+plpO9ey+YLBDDMTWfdjDR9mmdB91x/QFapnT3vC2V70xeV2cDh+0Cl2T\n",
       "nhCe091Rt9KA+ctIcs5M2Nr8e+zzK+Hlw0jgBL0hGJDoU4U9f0OIsx14+he2LqXd5vdaq9/PjjFA\n",
       "7ezUmiGfZ9n4gAmunvCDR6SGncoUzmXqmtCIjk8OhzD6DsYJiO1dGI8k3jkZIsWWjAX7OvgTxUlG\n",
       "QJHzYI2SCUsx/ErTNzx86BVyWg9eTWEQIW3XP6U6biJbRxTevtad03grFtCfvye1H9/b3TiiyBgu\n",
       "xFgKHuqtr7Lj5Y1QahX4ZgVl+KblRwDRwzy3trxslmA2QrXEna4YH2XWZnGtBOGFOn3qNENpvfly\n",
       "OmC5DRnSQE1sOCIv0y0E//+DvTypuO9dk6iKG2QgqK5cyWPq8v0fAS5421q11oXBElhTwEmObS1W\n",
       "Pn4XVCAC0OcVQzj1Ss/b4klcykGtdvsXbcqki2qapr/2sy6VXmC5k4ge3x3ZGztZsvPR7NcRjJeP\n",
       "UX4EVW0E9vzFHkw5lj6X1+3WRYsFdN/Z2qQ0jYKystgRvcUzELY5Ov+1MEcF7UC3dqk0zbTm3GUD\n",
       "r1pCtWx9FSF5TwuC6TfNUzFLCBCIsjK6b2AH8cvjjwhgVuVWjj/sgD1+lY19yDGMe2UhFJ9KElPK\n",
       "phZNtHFkJnJV7JAjNpzaQO+0iFrcn8babe/ObxlkecUBlxdnZeSgRfVWrpJ7h3NJ59Skx9Qa8xZd\n",
       "MNmxdr9/UD5TB3b5mRI6vuYy37JtEVus68Epz2/CrUSu4TeNH2b0Q5D+vda0dIX4IUIOYGn6uFu+\n",
       "xYts44yFt5aiMtr55M367ixrUzfDNDe0wlNxH+ITEZBK6PCi/qSDShBd73SP3N5x59SWm9XgL9wY\n",
       "3sR8OwJPC51za5bCHPRxpcglKc2HPiVM2tQtT4TGIL3EzPOXBr0AawjBOHW3QHN6KbsajjC/4Vfc\n",
       "dsfJz+2DOLvP+/jgeMqZ604qtYCKsmHau4YiR0LPl3LZHIMmcfw0CH5pfc2pPvzN30P4jbcPhgn/\n",
       "m1YqVNvlaTKgGgGAKLz5Jt0lde/EVy4JRuKF226851dVr3u+Jye4ze9YNfNGwcwcbKDaOfAQqKlw\n",
       "NWihoJOI+Q2A46pwIc+UOrtQ8XArCUImTHR4ZZSCmZ/SMMCRfs4Qy7JXfr1jCVu9KYd4OGNswmTE\n",
       "da9eNG2V5ohlQ4ZlZg7g8lZdcj4h6+2rQUZqGio8DqeRZPTOJnKF5ZIUbI06cK7IfIIkvQgSEwjG\n",
       "GYM73njYI8QVM5N30Jn1fSkirmjPUPbMC6ox+SGZb6SlQN05hNrzKw8+X5abvi9NQx6oEacorHk4\n",
       "eyv9Tb/lbVwUAchz3hUQQEL1RcK+K55n+Ke1d8sUt6fviqdFiUHgQil4al4NyQhoWRjPmV4xg3aI\n",
       "oF0xncIir7vdKp999gfDlSY+p37u6zir+L1tB7DTH9CVsvyKb20wIVq4gd+ypSFWlkeTnRE/rRNT\n",
       "UkQCbqGVvPZeAjerJzS4aSKEzVCEchftfJq6/9RE67e9gC0VLkNpIxY+b6tZ9XRiaksN6jtKvAeF\n",
       "W6nUvXh6hYfFe+GNpnPXw8w2ysrboX8tm/pSiAtCvlNvcQYhdM/jpCy905xZD2OAfiOBzm6d9onv\n",
       "HUa0ADpYKOvODG4Y6A1fC8fz+D/T848uN8iyPA2n3C4yG8abzbHjOKYIW6pKOBUqdeS7q3PAPLfL\n",
       "QZGfXMQCQGtA4WuBDLGMK6kuQDcdHynnlYF00j8X3gMAQKWRhSoWeQndBTLqX70dOCFYMyKsu6YI\n",
       "QhZ5mTpdzMehgeEmgRzyMfnXoal/tTD4NTafojZe/CHB4TwF/3Sb/JC3EF6rm4noiJ+wpxUR8s0r\n",
       "c1tSCfGcKnIADqcJKa/0+qS1+K3Wb5eG3yL5Bjjsj5IHn6NCfnQu47zdR7ce3WvsahwtEMiiY4Sf\n",
       "lcy98BFb9/RkkGar4etseaVUwlC6rymNjIfkLR4D+t6dFIm+zdoRNwj4qhNvnSlHI83OsREYGIZd\n",
       "8isKkXZ8fUFgVS5Y1Iq8a/ZqOkkwsgaI+Zu46Sj29zPX2jaC+vZiRjhUnU4Ytt46u7hZUcewhHTd\n",
       "bu29fc45Yvi3z6BXm2HzHLB+JG45RhRDDymwGKJ0TI+Q4+pNw0RdmoLcqzZlM8xVOmuXGSMyp9Wl\n",
       "Si4PBhyU+0zqvT9hPUx/X6Z3cesZnehh//i+pxbH8Ra0DVWzET/5oktSWLxx6Jt6oCTCtlHJnOhV\n",
       "0gkNRoSViP4YUEpjKIJhNRD4j5fkwVUmoXra/d6dklkT2G/QyNRnFxv1Cj4fZGOzmMusZ4giBIXu\n",
       "jD+CJ1xF5sjvzERMydDsNjbmKlK/NnYdt3Pkyu6KfRVuIHZvvfqAWO3x8nmMr1Fj5sH931Wyf1R0\n",
       "WqL/RUTsqjbkNEiHXuBlSZ2hH7QkkAYWPCpUj8jf+/M89yJQ0o64RhAHa+BYxiqI12WvmQ4RGmP3\n",
       "EwMh44RmI3Wxz445fag/lQ+Lv5PZW16KUoRchJss6kbKQE+jApjJMcftKDkTsSkWk5KGWrFYPhDA\n",
       "ctJNzdy5oQrD8gngNT/zHwxC1JzRtvQ/5YDo7D7r7zcq/hTtdc4rg8hExAlB/ftSzlRLLeuXkTUq\n",
       "0QcfUAB4/CzZGkQJNpwfkuzAutijuabTgZhLp9WXBrO6iuq9LuP3dopjg21ahv5w/RGLU32yWUmu\n",
       "Co6zQQjrYC+SEBJGrMqhxlP2vAZwwWok+snrMKY1CN3z4L6GRzlJq0iRLMVLkGCIIVSUrddxGsw1\n",
       "81X80ZtlZJzinpaCY1SaxRjHAepy7JsyLdRv5yecp03C7ui8XuSGZdS5JrQR4yHFR05OSeWsoRTD\n",
       "BM9VywV/pwyxTOQooBo2cUXAZ44k+1PDfkHHQgswiRgyolpu7c9xRhfMq4pff7XZPCDdvI7o2j0N\n",
       "DRTu5FW36vsGPGusB9nJCCFBSKedWCA8mN9x8y/zlmqb4L1kr88pOdFEm3JvZsAQEw5NpVW+vYgt\n",
       "8HOfFqiAL32JL5kNByzPw0FHNFYSEanDWB7jKTZ0DdYagyzdOeXMZS3Lf+ARpsnXGv8+m9S+/nYG\n",
       "uACD5t3DGqvVOl654gYt1n+5lZk++4ZEaLJdeZC75oTzwPMT9JW8h81KQ4M4huV0a/XXqAlEzuAl\n",
       "Ds0BgFCZDsQEC/pLVj63sQeJzSJsfH16gI2IFoOt+dN4JPHu7kOHPesfuup6yRgjj8hSSOKuicKH\n",
       "AbNizGsdy/bAUVm2ilEkLDBRx1JZ6CpO5orce/vz9hXLVlI9gGEoB5ttvP6+yAaMOI3rYchIkPi6\n",
       "6RhU62S1JcpZ9mdXH3bxOj/UI7W1ey0FQskfJCmkQgEbNLUS6YGV5RUEg6c733iLH491lVVupxPo\n",
       "TzHkAu7U4gmEIFWT2ipWZeuJNQiqUAYGQ/ccrc/VRqhEWcQ4B/ogmcDPtofDQJruNBUT9nva7D4d\n",
       "yvQpUtq3X5OAq/MUXcSkqKX9M6MQpHYVXtdpxzi/BZKozMaf6p5/+714XLej/RoXBnZDr2qY+3og\n",
       "OFKGMEQn/nq2l+kq89fRKYGyVDOL6nGb1UN6By6uinemAmn/ZIbtnkxc0/1Q9dDZjsnFWCB7AZEp\n",
       "VW3/vKhSfCmHH0J2X9XR2J9HytwJ449WvUKKQYTjsb4NISlQg59//9D+jxfAn3zFMz///lt2HBCy\n",
       "wUi8xREZulQ3Edir+FgCvKNHEpo0ezaD760e4mPn94+1V+4R8d6eLTuPxnW85MbHqERHCA0qfJAB\n",
       "0d90F04+uYejwGM7CRSeHNUZgNQxqsR19I+apDyUMJJ4ul9/AVHLwkeA0/Q6NOLp9E3wRi58UZst\n",
       "3TTWvpGtakVeVbvPk7UM+Z9dE++vX1CGY9Xs623CQy+URc3lafboPulXmuW1LiUrKlgzfN40aunk\n",
       "sj++LoVyls8L7/ehqBPj8cZk3x2XJo9UPV9eACRaCtC2jJbdnVvLx6e07W+qxIq9EUCvONfpvtCG\n",
       "z7FAJ7tw5nUchpa7SFSqW7AVup8O2oEK23xuQe1exGm+fRkAPpUveJhvjLSm/m2r0tX/nccbOzNC\n",
       "NSMS6xrXbKQaZdpoHT8kQhqUXjy87Yf9UugqU6C/Q43ZIPBBTQGOCbgfPpPgeVtvPuBQYROKuQxq\n",
       "s7X583AYVQlqC+LoQGMHSN5Y2Cj6USQbdztzAVBUb5eAmkgXzXIAPALqgIUmaTe8v6+UZuJaCl1S\n",
       "lENRTofAVNu74Zcr111AV/pNrx6S6SuKTZH/7r9EYwcndWhjQgw6PURTWWjWazVj5GP0mIOLsBqZ\n",
       "qjxiLVI45I7GEDBoC7rXjfFykda2QLh2a6z5MBDsqgNlK9MKDcexP1x3oLyhCgSa/jeRXr6Ud8mb\n",
       "W7dgrrD+xfFTZQNWpT5XVycjz9NM2QlwMkXEeBWfAQYYWzFHq2l2z+9/0pfJRlvc84NhwEaIfFO8\n",
       "/pzBrJ1Rjjqge2VQEBWGCqcaqe/vM4F3fqeP6GxEGFH2O6zP0zuU1BMF6+KogFotZ4Yxc4MwyTZh\n",
       "QMIdne8km5T2U/N4JAs19y/dBuuR7MNXpQb1SsXRfUo2sFy+AbFdZkF3da5ID2AB6Xu2SVKRBjr2\n",
       "lDLN8CuQdVShVLU+6kGkreWut/Vj/WUEawJzBgMEq/MK3zNUUrXHrO6Bpqn0swc0+0RcUoeSLWBS\n",
       "ZpM0cXRcFniIf9yOcDRROGxBzwRjrWlkd9n7Ld7xC20kcL95u26u8/7mMOZ4jMcdRRlaNOCW7YAo\n",
       "8NRCp+gg05zhMeUBKQUE4CR9SyhIB9MQP7Xg/HN+ZZjrLJuNn79K2n2O3jea4NDliuL6yhDMH7vV\n",
       "6eyRL4TaJ5C+1t/t/bsJdJj+Pnv0NYJY1lEimfeHCe2sQ3UkTp/DqOO2erI49InHYceL7/WX8Lm7\n",
       "+LFaTX4GVikXgT383wFXAcyw6w8aZAbgChbEa6dI25H9QBdJREkWqcHycNps6HbRz1uuYIxKKJIr\n",
       "VPY57EbjEnKnujsI4aHeCV8Hpz9q/i1uGvRC70eRSds7slH4DuRRJy8eaTvIvKNQAB9KNjpw9VxF\n",
       "crjOQ0VgauK/+t6eASEYdpDhOog8D216mZSd296V+1pWBul+sM2qQDn98o5BoHMQOkfwSERQKZit\n",
       "zxQ6dqm34m5TgwFRfDyB2JhS2Rky95+bH9wiihLPNpVT2fdJ6Wk8NjzMIDvMXhjCSYQLYF3mlsB1\n",
       "tiOpJcR65Tk2MidpUNnMxA7XjwFthwHBZnJJ0Ymn/Fd+4I2DRHG7izYe+zJUAaghBsh6CG34Znn7\n",
       "mAs9pBH6y1wImviaUfbPk7hoBuZ8XQIHBX0+6wi4Bz1YqoNgI7Pq0DERiWu2QvWe8n9VncsVc4pI\n",
       "6lGeEnVMv7Tv4Rz5RdLBLa73Z+8tC/8WTECVBtvjogJJIzy4qs2tFYJZ6U+3IRV+eFfsl4uygwdD\n",
       "dzgwlxnl9MVF+2DjXil0lxA4WdXhxLgRFRH/l9spL657HIDqcXBM6tL/v69Qp+xJ0Ts/FMjI3Sja\n",
       "pLecVIeRl0ciq/sw0QnxJgjJ/ywbiktBp2K4fNoaJdGIx8U/M9vB1Ws+jpKDFFt9ISzHn4+Hzt+3\n",
       "nB9ydjJECB4Ifwr23nA60+gjLF2RhxAq8LV0/2b05Arp6e51tnn0iycx6zWvACic3dSopq/w6N9m\n",
       "KKMlhxnWIS78vnLOr9Yu0+SByKx4Fj22uZnLmayADHTbfDjqmIwDZ+btdlukhjQOvSaM3BrJQKyr\n",
       "DSiaKoDnV+swGqgX+8HxhgwfQPtm+hOX/2uhSks12BAy7CXu7E7/ImcldINnu6ia7vE/8jLSXB8D\n",
       "XNvo/qSliyK1V2ljciQ3+THcVNyYHxPX1lznjcZTbT5rd2k0S9ZsHbK3tFHkzeTKFc10XOudeK31\n",
       "2z4YdxMr7NMhRyMEl6tlf+EWvcIFgszUznDVYh7vhy3NbyDywpp976LttYtXX/pcOO3beTqjDnJ7\n",
       "k0VvcTzu8A/oyWLrpEMKXivGeuBO3LLJABXCQ7pp8vhZvDB01vTc1yKlAFd/57NgAFbwUQCpcIKB\n",
       "AAAC20GaImxC//6MsATheOYATualXOKHsL69gRLLervC02JVE/jkASLDWQ0jpj9GKbRcqXBwXUnD\n",
       "SW9uPwYZ0tOxsn0oGDwIIM37IFsgBF7ilECB0k1+YnDiOWhzPh8aMVoQ/9ZZslo3cQNPhPR+vijL\n",
       "zs3sOuBUP+07cW9WnMWD0uWQj/byYpnTuG5At/s2WWFvYAymDsM28S9cS5UMD8W0XEGdhAaB/nXc\n",
       "us6ZhPgwaKEtYGGGeLTIPNdUcb7zJLf8feNDv6DzZ1Z4UbNzlpOJCVrfAq+nDL2Sqv0FM2EuZpO1\n",
       "0Ek09zK+wVntCYGxZtGYK4ODE/zAt+PIfxbcdNPC/xj+gia/T5JSjFRPFVUub2VZuZLWsKXY/V2/\n",
       "BcPJL2bRFAjXbd7T10KTxiIORF23dmk8+IZDKvFENXx1gV8KUoIJIFzUb99KYxksGQLcT3wpfk/I\n",
       "wdxnEBSRjBDeswe4O+VcGQDssVcBOqIqjBEzOan4OvlnZppSLdZSVOqKBCTD/j9UNk6c2LK0PzaH\n",
       "ue0JrlfkhG6gjUH0RIwC+vZAEtA23m/3+gHLA6v6vzVAhj6ajTvCYOii8UAKqbhYXgyKGqihl/oA\n",
       "5yeSzhoGGxPTxT7awtCyF992U3CmI2cUrOaIZiNkaxUMsbHt/3il8SqqL/c+3gC8Gq/t9YKoG44j\n",
       "ZLuLtYGfhUlfV07GoRXG5DTSUzEtE9QUNXKXRAnr0hcAfIKT419hbHFBTKAmZbO7+FIp40ZYhh/e\n",
       "TsUNpwO2RlpW7lAfAtaNe3MNeg0gfyAf5cyqMg5+5R2zuS+teAFkdDBANy3JQWROlx9oB8pdECjb\n",
       "6YQQd35xNIj1e34cn8RLtHKBK3Y6+6ZBmYwkZZ68V1n4tdr/MH/nTP0eM2QACzBFNMD85S9+VUSE\n",
       "3O7e/Pq54aoz5Q4D7qF64j3b6yvXDC6sc0OCGe3ubeGHSIMNumPFckt3X5R7rgwavgVEAAAAWgGe\n",
       "QXkf/wTUaccJzAbuN4VfFK7ZalCioKNOUdELWyc7owbjTsD6ChgFpa2N/hdAC1zV0g1hchPzARzl\n",
       "6demxSFWNfSJYxBbM2acj3WN+oNo88uTCuPGv5oiIQAAASVBmkU8IZMphC///oywB2yKHRc5QfNI\n",
       "BJZ/yD4QZ6WIVfTZ5wTEVDu09TSHOyPwSK0yyjl2tHdX8Vc8XQEI8MDfV1W8O5jfhvnSjPcVZac6\n",
       "E/dD/uejgYEskgvG5C63jAbOCIIXUsiYLiQT5g6ZELzwRBBEqHxyY9vzkBUM0Cvzsqvu6SiKwLFy\n",
       "JcAz93iDGTekYFFGKHl25Grm3D/U/9zkaJo6sREZdzunNFEbElvfiLBlg3EnrcBQWNAjSYxaVruW\n",
       "v1kN/HI0PqfAyytwdbY21EOMt7+BuSqWqs8lm6jeJrO5WmCgz30U9w7dQ5fK70WqdQcdtZ6tIGa6\n",
       "Vpg9KyiKgXoAr5yJ8Fz7EaFltyQxqgmBZo/hRafDxrjFXOIcVA2+WHhFdAAAADpBnmNqU8I/ARpR\n",
       "UIeb9cOyoMv9xxl9PmQiD4hXut96k+TYHY7PABONVGx0bwJIDr+3JXNSlzxAa54jAAAAKwGehGpH\n",
       "/wHFgDYxF/RxLdjvEaQx0lsAC4hjwSyqjxQGle/M14IDNvX4eEEAAACwQZqHSahBaJlMFPC//oyw\n",
       "AXbX3bALn7iYrUc+T4AbIloPHy+WnQAE8XufTbL0E98E0TP0oDcDvdKY+TT2Fsre2yhSIxfn+kLQ\n",
       "+GZCjhPwApS0zM4vFl3/J2pnKQ3Gkon9u7ZOTPvyRZqWMaWGdUX/H3gyNNzpJSSiYSDEPKjSHlsY\n",
       "ka4T0ofmhAY3vL/hdZ8s5AauD6SGBn07v3WI3R9gulR/CD3MLHS65thhlWYoALkAAAAqAZ6makf/\n",
       "AcXvix/75Z1VMLRPy4GaSr19gAuoirMEiHX6BhWHp+bzdHmhAAAAckGaqUnhClJlMFLC//6MsAAB\n",
       "gH3hgE19QfKovwubgoFQLxXuhL0tOwX6q550oScine0QnXjDhSgPB1x35QxXhNOddkuIQylAnqt1\n",
       "zARZC0960lfMXP8ogKRwhlCnzNhcAqQef20SG2SxmlcGT96JwWJsmAAAABcBnshqR/8AYd4sdg/5\n",
       "cHzYEwwoS3zwYAAAAMBBms1J4Q6JlMCF//6MsAAFtynQAOkeIPyWRs4yk4FJahS/r3aA/1Ne1VoI\n",
       "XcU6f9p2og59O5YBvHVGX0xYbriVE/DSvEz72hDW1uva5wlHP2bwUxapD/FN24beAD274W/Ed/sG\n",
       "ZYAR20cQR1KBs2CxymNfzJJHu23f6V9ntjNC/bXBudcF/ry4h0mCFEnF0Np042fb4/fhQ/XSQUd5\n",
       "3b7fz/Le8Up3x08LZpZ5BDKYGweNzL52OXPbwv51fuUp5lUAAAAiQZ7rRRU8I/8APLETYeEfFgYD\n",
       "HhDh4EXh89tTNXjjRHL9UgAAACEBnwp0R/8AI6xA0HHfeeAFq1/6NL/dC4wRMsVok+94/rgAAAAc\n",
       "AZ8Makf/ACO/Hu3CvRhoALUuUn7zrHT0B9n1gQAAAENBmw5JqEFomUwIX//+jLAABbc3hgE0ouE8\n",
       "Tx5og7TAIH8ZDA/SJL3XAtLQIIjLHn+TCoydX223nnvxl5f7BsxP8Q13AAAAx0GbMknhClJlMCF/\n",
       "/oywAAtubwwBmDn7lIPx9BLpzWONcpTpLeifAxmdcWEshqUqqeixHv3ZXmrHNLPS5XajsoZ8BT8H\n",
       "MD3SW1kVlWaYh24RSWTU1eVFXbHkfznCCTNYDKUHakoavKve4XGgK7ONZmJkHyEwxw5jlZRyEu04\n",
       "QTJu6dEwHPiBw5kAX8d+EhfvITxzBUf7r+Z3gb/1068LGAJAP+O9TmOxAVx5qtU9RzSKwv90wfjv\n",
       "aJdZ/eoqIjeCe7J60RvRPSEAAAArQZ9QRTRMI/8APLETa46zFbPfIAD9lbvbbbwerOzV7s4ONiTE\n",
       "cQn5FojswAAAACEBn290R/8AI6xCx+aynQMAE4vEytdh4QHS4XeOouNL+IAAAAAVAZ9xakf/ACO/\n",
       "H7GLnq405GHlfu/VAAAAfkGbdUmoQWiZTAhX//44QABY92+C7DeMBBJiJm6RDsrxfXJhv2qJz/zA\n",
       "QCcuigQQ9DTrWn8HUc5WgIIK4iV7hxFAZ8cmmWzMtTVyVX2aiSP1gsXGDZksw5cAiWwka18ZNffT\n",
       "/VYtvD/1suKp991QX/S4waeUdyBK4q5BS19wQAAAAClBn5NFESwj/wA8sRNr2qPFOw7bgAEIt8OY\n",
       "GwQT5XWBaNzAGXpF3CfhvQAAABsBn7RqR/8AI78hM8VOkUHnrQ56081Jbe9tmxEAAABQQZu2SahB\n",
       "bJlMCF///oywABbcdtgGjabyI4BLXHEUWxWX9WolpksrUfmq67y6ixPfYJb7L8RgJUaGx4i1IV3D\n",
       "YJiCUyQMI2Bt27I7q2NGUMAAAACLQZvaSeEKUmUwIV/+OEAAsf9tQAxsI+Y8Aze/msdVoZ/3qeYb\n",
       "Mr1mmcHpFd9/L7BdUENfWoBQl8q35+6R/5igRECP8+NTyW1lRj+xfsyuJ1LbxD67QAVpeGJrJ+93\n",
       "flOXegSM4t8kE2fm8yl5vwWeM1vw1NEmu3Ijf40angolQwOxhixMzNDGXbCaQQAAAC5Bn/hFNEwj\n",
       "/wA8sRNrjr5LEdKziP7uABt1W8fvXZHnlLQI+dyTl9tAY/qV2CcTAAAAHgGeF3RH/wAjrEVonef+\n",
       "AA3XYpqLtvQqm0k+p9o5gAAAAB8BnhlqR/8AI78hPY0YNABZGvXvoQqVQnb+SXgnm+ytAAAASkGa\n",
       "HEmoQWiZTBTwr/44QACw6V1EQH+b0Nvr9jU9edbgI/A//vujGNKqbuBZ3zaAVXwXANPme0zvrEhY\n",
       "OS/n2mMiFBq27nYNv7rpAAAAGgGeO2pH/wBiPImj/hOZP2VnnMnE7XmVv7vhAAAATUGaP0nhClJl\n",
       "MCFf/jhAALDz1I6tEB6+uRMpi4JPs/KaePvmxSUHkz8NSPonU6lNt6xJZ0ZMrMk26gvny009KmaB\n",
       "iji+A6Y+yBjGmhvRAAAAKUGeXUU0TCP/ADyxE2uO6C9iWm8AAXRqUUs0jvUEb/jW5HUuKiwmUpTp\n",
       "AAAAGQGefmpH/wAjvyiEO+Cgt8W+L1VBu7g9dXAAAAA4QZpgSahBaJlMCFf//jhAAKxbbMA0WFuj\n",
       "HhQJFx5iq/nvFEck8tO2W05I9BBqzCL0uV43EAgIhYEAAAAsQZqBSeEKUmUwIV/+OEAArNPiZ71U\n",
       "Aop4EvreAFRTtaqbRzOXaYsMueSoBSQAAAAqQZqiSeEOiZTAhf/+jLAALIzAtEDz6ANpAoxYI8Dj\n",
       "qpQYxq5xoW43M0OPAAAAOEGaw0nhDyZTAhf//oywACyZ5vADb9SXYoZi5o1kgT2Ys5dHQpiFGNwa\n",
       "Vrq5s1oj57OqYC8tx8ETAAAAP0Ga50nhDyZTAhf//oywACuEIDAS2AOMMHeJ9iWGw/cIfX20CW8b\n",
       "yuhcoDQ9bajTfFdjSG+5ynh9MQ0yW6DjgQAAACVBnwVFETwj/wA8sRNh4SnMtcYvJgBqq5moEpYd\n",
       "t7sRlzDLwTv3AAAAFwGfJHRH/wAjrE5qelowqETE0IXqoh6ZAAAAHwGfJmpH/wAjvya7pQU+gAb2\n",
       "uHNctR3rNp4u2erXiqEAAAA8QZsqSahBaJlMCF///oywACuNWQmwCa+LWlv0IzWTETYJDa8Yb+Id\n",
       "DXAK9Qq9AsBlufgACVAzRX0EMMWAAAAAHEGfSEURLCP/ADyxE2va3eJPqnUUV6z4N/Fy0T4AAAAT\n",
       "AZ9pakf/ACO/JvTRml4OuIybgQAAAF9Bm21JqEFsmUwIX//+jLAAK3rSQAG3cEJcI448/qPJNQqC\n",
       "GJBN8fK1ZTL65pGSDGfwfjlCWyOfn09/jDmO8xnwc42qiQpV1Qqu/llt79c6+4CqGpF13fRi0rmu\n",
       "ixoxVQAAACRBn4tFFSwj/wA8sRNr2uBikABOoOzynRfHkIEgQCq5dX6gv5AAAAAXAZ+sakf/ACO/\n",
       "Juwzt22sdkxp8VuL1WEAAAAuQZuvSahBbJlMFEwv//6MsAAqTko8A9swBAFAHpQdrZaLIQiFkyjl\n",
       "GzT7aCBxoQAAABoBn85qR/8AYjyJo/3nIupakOFdZ8Js+5kfMQAAADNBm9FJ4QpSZTBSwv/+jLAA\n",
       "Kk2Fz092lwCa+jDsN8Qyg8tR69YFDJguPYmo4i/+E76TY4AAAAAXAZ/wakf/AGHeMG5CS3BCvJFq\n",
       "6+1D37AAAAAxQZvzSeEOiZTBRML//oywACqEiskAQj0YmfPaV7hgHjI53RsdrX8wBBEup/R7jFCI\n",
       "4QAAABYBnhJqR/8AYd4wcgvDhahgtWHAUjj2AAAAN0GaFUnhDyZTBTwz//6eEAAp+s/3AHDf76ub\n",
       "I5Zr/aexHJ5FNJWRpnJk1lIifMZV6Rk/QPWLDegAAAAgAZ40akf/AGHeMHf6XABb42gAjKT4UJTS\n",
       "QrLX9kbR27EAAABeQZo5SeEPJlMCGf/+nhAAU/J0YAh8bTZYEzs3ntBXqeipjKSyJGaIp9VaEf0u\n",
       "m+Hi7Hlfl7taOo2U7VPZVdihTXAVJ5VNwZ1AveqYKhJA2Gs0yEX/KdFtfrD61oA3oAAAAChBnldF\n",
       "ETwj/wA8sRQD9yGnQAtwc3uuLQLZ/sdX7vXgid7e8OUu4FTTAAAAFAGednRH/wAjS8vlihAKklgL\n",
       "bHLBAAAAHQGeeGpH/wAq6ZNpABJwj5RN2MJWWkoYd1NojB8gAAAAe0GafUmoQWiZTAhn//6eEACK\n",
       "pA4Gs+kAUzKjLcHCTGaukRyQR5OmlKYtZcSX4QmdI/94JIrmqB6xpoEgGZa0oY34WIgU3yC+wmRl\n",
       "bOrA+vzGMJOirTXgTk6u+w+sF9FQCFIuqK14epWngk0rVK1stwpJg71DpSiD3JaP8QAAAClBnptF\n",
       "ESwj/wA8sRQRxB0cAE0yDPs5+UvVhwzaRHNzDbIF561MwKp0IAAAABsBnrp0R/8AKyOkAAk+hiWy\n",
       "/IQHXXbOSXNbprEAAAAVAZ68akf/ACoKUNbnpCVC4WaiaS8hAAAAVEGaoUmoQWyZTAhn//6eEABT\n",
       "8bjgCrE7sLXO3K95K3AKGACfi2XjEgBUA3cy4/hrt2HtgnfCxhzes3SkwP4i7w9wDKGtYMWX8Dgq\n",
       "91A2iZZMeufBFwAAABxBnt9FFSwj/wA8sRQTkMbpz10q5VVwZqdv+XJWAAAADgGe/nRH/wAjrEAl\n",
       "27pBAAAAEAGe4GpH/wAqClTmf0+K64QAAABWQZrlSahBbJlMCF///oywAFSx22AOKJyuluwyoT/b\n",
       "3hqwsNdMfBn3BEPUvUuKYwV+5BRvGGMdRWXkDtHClMgYYYPFRW+JWSsVsE3ZsvcZ2rVmwGTNB3UA\n",
       "AAAbQZ8DRRUsI/8APLEUE4QkhjKr0gDmR8T3szugAAAAGQGfInRH/wAqNuKACw2VyYEADAQo63K7\n",
       "0IEAAAAQAZ8kakf/ACs50tiwhunSvwAAADpBmylJqEFsmUwIX//+jLAAVNbzNgDbyjoIfH1A3IUb\n",
       "cPQFVjc/jHyzwznSbeNY0Pd0h5ky0RMU5BUxAAAAJUGfR0UVLCP/ADyxFBIGMADirczfGsP354zC\n",
       "b1ufGH4HmnW4nZEAAAAPAZ9mdEf/ACsi5FWHHLoEAAAADQGfaGpH/wAADG957CgAAABlQZttSahB\n",
       "bJlMCF///oywAFSx22AOMFT7VprVrT0dipC+cxHxLjAlHEvN+BZzaprSZytaeVESUGBkwD+DGwu+\n",
       "IEs/z+FUK9M0oEzRK0yMF+u7+bifO/exwyNrUzXhQu1UOuE0P8EAAAAkQZ+LRRUsI/8APLEUEbyC\n",
       "kpcEDEXgDbzLqW0KcWFkKK+o99aEAAAAEwGfqnRH/wAp4363rFG4XLhSwCsAAAAUAZ+sakf/ACO/\n",
       "JW1Nn6H4Pu9p8IEAAAAtQZuvSahBbJlMFEwv//6MsAApTE/xh/oA24l7h7er72nQRlD3+YKjwtRv\n",
       "+QrZAAAAIQGfzmpH/wBiPImj/dfkCQbBgA0YVkvPNwMbKGmNT9mqVQAAAEhBm9FJ4QpSZTBSwv/+\n",
       "jLAAKUmskgZTYA2GHbW8iNgpEdCPTzVa6A3CjHQ8U3QD4v2L9SWNDDG0O+bu0GXa0wymsNejjakQ\n",
       "wz4AAAAdAZ/wakf/AGHeMFKx+AAtZ+n8Zeai7a3JesC1rwoAAABcQZv1SeEOiZTAhf/+jLAAUnHb\n",
       "YAiQyQbHD4QhYNcenqbN3UdTCOeawXp+P9IGAAo1zUH4G6v5RfEjNwEXp0mMUGMfzYCw4kv0Yy3p\n",
       "KVLbS5kSFk2wrTyrf/PFGNEAAAAmQZ4TRRU8I/8APLET8gYwALp5QLrXWkz0VSHt/UULY6G1aTWm\n",
       "DoAAAAATAZ4ydEf/ACj+ljNzPgsrJOiU4AAAACABnjRqR/8AKgvcwAmrtJ/3LUIDlFIagXZkrqBd\n",
       "s61AgQAAADZBmjlJqEFomUwIX//+jLAAUnHbYAiY74nEGtD2ZgWOoSedUqavBOcrJku5zIVeCh0I\n",
       "EWjIjlgAAAAdQZ5XRREsI/8APLET8bxjOz+bhDXvm7XCyyp526EAAAAQAZ52dEf/ACj7FcR5ETgi\n",
       "wQAAAAwBnnhqR/8AAAyUoEsAAAA6QZp8SahBbJlMCFf//jhAAT20CAAOOyVH+KTyevPl4ezeIXHp\n",
       "pu7RnstetU2GJzUlP0HxXrLpRzwJWQAAABlBnppFFSwj/wA8sRPZGnIJ7CmEoX4a/gWgAAAAEAGe\n",
       "u2pH/wAqCaCr6cTXnckAAAArQZq9SahBbJlMCF///oywAFBYYvmRYAW8bJS/YF+sgSyaFgcDW5/v\n",
       "F5BZQQAAAClBmsFJ4QpSZTAhP/3xAAL8RILyAGnTsWk/cPGRA3xAc5CI7deGhvDGgAAAACZBnv9F\n",
       "NEwj/wA8sRPXyBm6iYQBWGgywHq1EcfsFODNZUXTjGcxLAAAABMBnx50R/8AKOKxqUBoaftYZrlh\n",
       "AAAAFwGfAGpH/wAn1EQUAIv8z61unEp9X3dLAAAAIUGbA0moQWiZTBTx//yEABJOOiAC4qp1eGDm\n",
       "QxGnw5wVsQAAABUBnyJqR/8AYjyJ+QnUX9nMSsCo6yQAAAeWbW9vdgAAAGxtdmhkAAAAAAAAAAAA\n",
       "AAAAAAAD6AAAB9AAAQAAAQAAAAAAAAAAAAAAAAEAAAAAAAAAAAAAAAAAAAABAAAAAAAAAAAAAAAA\n",
       "AABAAAAAAAAAAAAAAAAAAAAAAAAAAAAAAAAAAAAAAAAAAgAABsB0cmFrAAAAXHRraGQAAAADAAAA\n",
       "AAAAAAAAAAABAAAAAAAAB9AAAAAAAAAAAAAAAAAAAAAAAAEAAAAAAAAAAAAAAAAAAAABAAAAAAAA\n",
       "AAAAAAAAAABAAAAAAbAAAAEgAAAAAAAkZWR0cwAAABxlbHN0AAAAAAAAAAEAAAfQAAACAAABAAAA\n",
       "AAY4bWRpYQAAACBtZGhkAAAAAAAAAAAAAAAAAAAyAAAAZABVxAAAAAAALWhkbHIAAAAAAAAAAHZp\n",
       "ZGUAAAAAAAAAAAAAAABWaWRlb0hhbmRsZXIAAAAF421pbmYAAAAUdm1oZAAAAAEAAAAAAAAAAAAA\n",
       "ACRkaW5mAAAAHGRyZWYAAAAAAAAAAQAAAAx1cmwgAAAAAQAABaNzdGJsAAAAs3N0c2QAAAAAAAAA\n",
       "AQAAAKNhdmMxAAAAAAAAAAEAAAAAAAAAAAAAAAAAAAAAAbABIABIAAAASAAAAAAAAAABAAAAAAAA\n",
       "AAAAAAAAAAAAAAAAAAAAAAAAAAAAAAAAAAAAGP//AAAAMWF2Y0MBZAAe/+EAGGdkAB6s2UGwloQA\n",
       "AAMABAAAAwGQPFi2WAEABmjr48siwAAAABx1dWlka2hA8l8kT8W6OaUbzwMj8wAAAAAAAAAYc3R0\n",
       "cwAAAAAAAAABAAAAZAAAAQAAAAAUc3RzcwAAAAAAAAABAAAAAQAAAuhjdHRzAAAAAAAAAFsAAAAB\n",
       "AAACAAAAAAEAAAMAAAAAAQAAAQAAAAABAAAEAAAAAAIAAAEAAAAAAQAAAwAAAAABAAABAAAAAAEA\n",
       "AAMAAAAAAQAAAQAAAAABAAAFAAAAAAEAAAIAAAAAAQAAAAAAAAABAAABAAAAAAEAAAIAAAAAAQAA\n",
       "BQAAAAABAAACAAAAAAEAAAAAAAAAAQAAAQAAAAABAAAEAAAAAAIAAAEAAAAAAQAAAgAAAAABAAAF\n",
       "AAAAAAEAAAIAAAAAAQAAAAAAAAABAAABAAAAAAEAAAMAAAAAAQAAAQAAAAABAAAEAAAAAAIAAAEA\n",
       "AAAABAAAAgAAAAABAAAFAAAAAAEAAAIAAAAAAQAAAAAAAAABAAABAAAAAAEAAAQAAAAAAgAAAQAA\n",
       "AAABAAAEAAAAAAIAAAEAAAAAAQAAAwAAAAABAAABAAAAAAEAAAMAAAAAAQAAAQAAAAABAAADAAAA\n",
       "AAEAAAEAAAAAAQAAAwAAAAABAAABAAAAAAEAAAUAAAAAAQAAAgAAAAABAAAAAAAAAAEAAAEAAAAA\n",
       "AQAABQAAAAABAAACAAAAAAEAAAAAAAAAAQAAAQAAAAABAAAFAAAAAAEAAAIAAAAAAQAAAAAAAAAB\n",
       "AAABAAAAAAEAAAUAAAAAAQAAAgAAAAABAAAAAAAAAAEAAAEAAAAAAQAABQAAAAABAAACAAAAAAEA\n",
       "AAAAAAAAAQAAAQAAAAABAAAFAAAAAAEAAAIAAAAAAQAAAAAAAAABAAABAAAAAAEAAAMAAAAAAQAA\n",
       "AQAAAAABAAADAAAAAAEAAAEAAAAAAQAABQAAAAABAAACAAAAAAEAAAAAAAAAAQAAAQAAAAABAAAF\n",
       "AAAAAAEAAAIAAAAAAQAAAAAAAAABAAABAAAAAAEAAAQAAAAAAgAAAQAAAAABAAACAAAAAAEAAAUA\n",
       "AAAAAQAAAgAAAAABAAAAAAAAAAEAAAEAAAAAAQAAAwAAAAABAAABAAAAABxzdHNjAAAAAAAAAAEA\n",
       "AAABAAAAZAAAAAEAAAGkc3RzegAAAAAAAAAAAAAAZAAANUQAAALfAAAAXgAAASkAAAA+AAAALwAA\n",
       "ALQAAAAuAAAAdgAAABsAAADEAAAAJgAAACUAAAAgAAAARwAAAMsAAAAvAAAAJQAAABkAAACCAAAA\n",
       "LQAAAB8AAABUAAAAjwAAADIAAAAiAAAAIwAAAE4AAAAeAAAAUQAAAC0AAAAdAAAAPAAAADAAAAAu\n",
       "AAAAPAAAAEMAAAApAAAAGwAAACMAAABAAAAAIAAAABcAAABjAAAAKAAAABsAAAAyAAAAHgAAADcA\n",
       "AAAbAAAANQAAABoAAAA7AAAAJAAAAGIAAAAsAAAAGAAAACEAAAB/AAAALQAAAB8AAAAZAAAAWAAA\n",
       "ACAAAAASAAAAFAAAAFoAAAAfAAAAHQAAABQAAAA+AAAAKQAAABMAAAARAAAAaQAAACgAAAAXAAAA\n",
       "GAAAADEAAAAlAAAATAAAACEAAABgAAAAKgAAABcAAAAkAAAAOgAAACEAAAAUAAAAEAAAAD4AAAAd\n",
       "AAAAFAAAAC8AAAAtAAAAKgAAABcAAAAbAAAAJQAAABkAAAAUc3RjbwAAAAAAAAABAAAALAAAAGJ1\n",
       "ZHRhAAAAWm1ldGEAAAAAAAAAIWhkbHIAAAAAAAAAAG1kaXJhcHBsAAAAAAAAAAAAAAAALWlsc3QA\n",
       "AAAlqXRvbwAAAB1kYXRhAAAAAQAAAABMYXZmNTguMjkuMTAw\n",
       "\">\n",
       "  Your browser does not support the video tag.\n",
       "</video>"
      ]
     },
     "metadata": {},
     "output_type": "display_data"
    }
   ],
   "source": [
    "try:\n",
    "    display_html(HTML(anim.to_html5_video()))\n",
    "except (RuntimeError, KeyError):\n",
    "    # In case the build-in renderers are unaviable, fall back to\n",
    "    # a custom one, that doesn't require external libraries\n",
    "    anim.save(None, writer=matplotlib_utils.SimpleMovieWriter(0.001))"
   ]
  },
  {
   "cell_type": "code",
   "execution_count": null,
   "metadata": {},
   "outputs": [],
   "source": []
  }
 ],
 "metadata": {
  "kernelspec": {
   "display_name": "Python 3",
   "language": "python",
   "name": "python3"
  },
  "language_info": {
   "codemirror_mode": {
    "name": "ipython",
    "version": 3
   },
   "file_extension": ".py",
   "mimetype": "text/x-python",
   "name": "python",
   "nbconvert_exporter": "python",
   "pygments_lexer": "ipython3",
   "version": "3.7.7"
  }
 },
 "nbformat": 4,
 "nbformat_minor": 1
}
